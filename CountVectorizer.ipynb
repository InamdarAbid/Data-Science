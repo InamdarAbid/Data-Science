{
 "cells": [
  {
   "cell_type": "markdown",
   "metadata": {},
   "source": [
    "# Playing with CountVectorizer methods"
   ]
  },
  {
   "cell_type": "code",
   "execution_count": 36,
   "metadata": {},
   "outputs": [],
   "source": [
    "from sklearn.feature_extraction.text import CountVectorizer"
   ]
  },
  {
   "cell_type": "code",
   "execution_count": 37,
   "metadata": {},
   "outputs": [
    {
     "data": {
      "text/plain": [
       "CountVectorizer(analyzer='word', binary=False, decode_error='strict',\n",
       "        dtype=<class 'numpy.int64'>, encoding='utf-8',\n",
       "        input='Today is a great day for swimming. I can swim for next one day. I am a legend. I can do anything. Nothing is impossible',\n",
       "        lowercase=True, max_df=1.0, max_features=None, min_df=1,\n",
       "        ngram_range=(1, 1), preprocessor=None, stop_words=None,\n",
       "        strip_accents=None, token_pattern='(?u)\\\\b\\\\w\\\\w+\\\\b',\n",
       "        tokenizer=None, vocabulary=None)"
      ]
     },
     "execution_count": 37,
     "metadata": {},
     "output_type": "execute_result"
    }
   ],
   "source": [
    "var = CountVectorizer(\"Today is a great day for swimming. I can swim for next one day. I am a legend. I can do anything. Nothing is impossible\")\n",
    "var"
   ]
  },
  {
   "cell_type": "code",
   "execution_count": 38,
   "metadata": {},
   "outputs": [
    {
     "data": {
      "text/plain": [
       "['Today',\n",
       " 'is',\n",
       " 'great',\n",
       " 'day',\n",
       " 'for',\n",
       " 'swimming',\n",
       " 'can',\n",
       " 'swim',\n",
       " 'for',\n",
       " 'next',\n",
       " 'one',\n",
       " 'day',\n",
       " 'am',\n",
       " 'legend',\n",
       " 'can',\n",
       " 'do',\n",
       " 'anything',\n",
       " 'Nothing',\n",
       " 'is',\n",
       " 'impossible']"
      ]
     },
     "execution_count": 38,
     "metadata": {},
     "output_type": "execute_result"
    }
   ],
   "source": [
    "res = var.build_analyzer()\n",
    "foo1 = var.build_preprocessor()\n",
    "foo1(\"Today is a great day for swimming. I can swim for next one day. I am a legend. I can do anything. Nothing is impossible\")\n",
    "res1 = var.build_tokenizer()\n",
    "res1(\"Today is a great day for swimming. I can swim for next one day. I am a legend. I can do anything. Nothing is impossible\")"
   ]
  },
  {
   "cell_type": "code",
   "execution_count": 39,
   "metadata": {},
   "outputs": [
    {
     "name": "stdout",
     "output_type": "stream",
     "text": [
      "[[1 1 2 2 1 2 1 1 2 1 1 1 1 1 1 1]]\n"
     ]
    }
   ],
   "source": [
    "list1 = [\"Today is a great day for swimming. I can swim for next one day. I am a legend. I can do anything. Nothing is impossible\"]\n",
    "print(var.fit_transform(list1).toarray())"
   ]
  },
  {
   "cell_type": "code",
   "execution_count": 40,
   "metadata": {},
   "outputs": [
    {
     "name": "stdout",
     "output_type": "stream",
     "text": [
      "None\n"
     ]
    }
   ],
   "source": [
    "print(var.get_stop_words())"
   ]
  },
  {
   "cell_type": "code",
   "execution_count": 41,
   "metadata": {},
   "outputs": [
    {
     "name": "stdout",
     "output_type": "stream",
     "text": [
      "<bound method BaseEstimator.get_params of CountVectorizer(analyzer='word', binary=False, decode_error='strict',\n",
      "        dtype=<class 'numpy.int64'>, encoding='utf-8',\n",
      "        input='Today is a great day for swimming. I can swim for next one day. I am a legend. I can do anything. Nothing is impossible',\n",
      "        lowercase=True, max_df=1.0, max_features=None, min_df=1,\n",
      "        ngram_range=(1, 1), preprocessor=None, stop_words=None,\n",
      "        strip_accents=None, token_pattern='(?u)\\\\b\\\\w\\\\w+\\\\b',\n",
      "        tokenizer=None, vocabulary=None)>\n"
     ]
    }
   ],
   "source": [
    "print(var.get_params)"
   ]
  },
  {
   "cell_type": "code",
   "execution_count": null,
   "metadata": {},
   "outputs": [],
   "source": []
  }
 ],
 "metadata": {
  "kernelspec": {
   "display_name": "Python 3",
   "language": "python",
   "name": "python3"
  },
  "language_info": {
   "codemirror_mode": {
    "name": "ipython",
    "version": 3
   },
   "file_extension": ".py",
   "mimetype": "text/x-python",
   "name": "python",
   "nbconvert_exporter": "python",
   "pygments_lexer": "ipython3",
   "version": "3.6.3"
  }
 },
 "nbformat": 4,
 "nbformat_minor": 2
}
